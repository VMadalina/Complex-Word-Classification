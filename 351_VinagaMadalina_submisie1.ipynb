{
  "nbformat": 4,
  "nbformat_minor": 0,
  "metadata": {
    "colab": {
      "name": "351_VinagaMadalina_submisie1.ipynb",
      "provenance": [],
      "collapsed_sections": []
    },
    "kernelspec": {
      "name": "python3",
      "display_name": "Python 3"
    },
    "language_info": {
      "name": "python"
    }
  },
  "cells": [
    {
      "cell_type": "markdown",
      "metadata": {
        "id": "C8pPjyane_M3"
      },
      "source": [
        "## Instalari si pregatire mediu"
      ]
    },
    {
      "cell_type": "code",
      "metadata": {
        "id": "F9T5ZjMqtVGF",
        "colab": {
          "base_uri": "https://localhost:8080/"
        },
        "outputId": "335f7c51-fa87-4875-989d-988d1b7eeac8"
      },
      "source": [
        "!pip install pyphen"
      ],
      "execution_count": 51,
      "outputs": [
        {
          "output_type": "stream",
          "name": "stdout",
          "text": [
            "Requirement already satisfied: pyphen in /usr/local/lib/python3.7/dist-packages (0.11.0)\n"
          ]
        }
      ]
    },
    {
      "cell_type": "code",
      "metadata": {
        "id": "L0c63EKz6uCb"
      },
      "source": [
        "from sklearn.svm import SVC\n",
        "from sklearn.model_selection import cross_val_predict, KFold, GridSearchCV, cross_val_score, train_test_split, cross_validate\n",
        "from sklearn.metrics import balanced_accuracy_score, confusion_matrix, recall_score\n",
        "import pyphen\n",
        "import numpy as np\n",
        "import pandas as pd\n",
        "from dale_chall import DALE_CHALL\n",
        "from timeit import default_timer as timer\n",
        "from datetime import timedelta"
      ],
      "execution_count": 52,
      "outputs": []
    },
    {
      "cell_type": "markdown",
      "metadata": {
        "id": "RKNVVj_VfC6v"
      },
      "source": [
        "## Extragerea si prelucrarea datelor"
      ]
    },
    {
      "cell_type": "code",
      "metadata": {
        "id": "nkTfCm6K6vY_"
      },
      "source": [
        "dtypes = {\"corpus\": \"string\", \"sentence\": \"string\", \"token\": \"string\", \"complexity\": \"float64\"}\n",
        "df_train = pd.read_excel('train.xlsx', dtype=dtypes, keep_default_na=False)\n",
        "df_test = pd.read_excel('test.xlsx', dtype=dtypes, keep_default_na=False)"
      ],
      "execution_count": 53,
      "outputs": []
    },
    {
      "cell_type": "code",
      "metadata": {
        "colab": {
          "base_uri": "https://localhost:8080/",
          "height": 206
        },
        "id": "L-mwlz7t6w2n",
        "outputId": "809c94f7-8f0c-46fd-c9e8-c6c0b5a3cf8b"
      },
      "source": [
        "df_train.head()"
      ],
      "execution_count": 54,
      "outputs": [
        {
          "output_type": "execute_result",
          "data": {
            "text/html": [
              "<div>\n",
              "<style scoped>\n",
              "    .dataframe tbody tr th:only-of-type {\n",
              "        vertical-align: middle;\n",
              "    }\n",
              "\n",
              "    .dataframe tbody tr th {\n",
              "        vertical-align: top;\n",
              "    }\n",
              "\n",
              "    .dataframe thead th {\n",
              "        text-align: right;\n",
              "    }\n",
              "</style>\n",
              "<table border=\"1\" class=\"dataframe\">\n",
              "  <thead>\n",
              "    <tr style=\"text-align: right;\">\n",
              "      <th></th>\n",
              "      <th>corpus</th>\n",
              "      <th>sentence</th>\n",
              "      <th>token</th>\n",
              "      <th>complex</th>\n",
              "    </tr>\n",
              "  </thead>\n",
              "  <tbody>\n",
              "    <tr>\n",
              "      <th>0</th>\n",
              "      <td>bible</td>\n",
              "      <td>Behold, there came up out of the river seven c...</td>\n",
              "      <td>river</td>\n",
              "      <td>0</td>\n",
              "    </tr>\n",
              "    <tr>\n",
              "      <th>1</th>\n",
              "      <td>bible</td>\n",
              "      <td>I am a fellow bondservant with you and with yo...</td>\n",
              "      <td>brothers</td>\n",
              "      <td>0</td>\n",
              "    </tr>\n",
              "    <tr>\n",
              "      <th>2</th>\n",
              "      <td>bible</td>\n",
              "      <td>The man, the lord of the land, said to us, 'By...</td>\n",
              "      <td>brothers</td>\n",
              "      <td>0</td>\n",
              "    </tr>\n",
              "    <tr>\n",
              "      <th>3</th>\n",
              "      <td>bible</td>\n",
              "      <td>Shimei had sixteen sons and six daughters; but...</td>\n",
              "      <td>brothers</td>\n",
              "      <td>0</td>\n",
              "    </tr>\n",
              "    <tr>\n",
              "      <th>4</th>\n",
              "      <td>bible</td>\n",
              "      <td>\"He has put my brothers far from me.</td>\n",
              "      <td>brothers</td>\n",
              "      <td>0</td>\n",
              "    </tr>\n",
              "  </tbody>\n",
              "</table>\n",
              "</div>"
            ],
            "text/plain": [
              "  corpus                                           sentence     token  complex\n",
              "0  bible  Behold, there came up out of the river seven c...     river        0\n",
              "1  bible  I am a fellow bondservant with you and with yo...  brothers        0\n",
              "2  bible  The man, the lord of the land, said to us, 'By...  brothers        0\n",
              "3  bible  Shimei had sixteen sons and six daughters; but...  brothers        0\n",
              "4  bible               \"He has put my brothers far from me.  brothers        0"
            ]
          },
          "metadata": {},
          "execution_count": 54
        }
      ]
    },
    {
      "cell_type": "code",
      "metadata": {
        "id": "YVyvlUH6o9P9"
      },
      "source": [
        "word_forms = pd.read_excel('wordForms.xlsx')\n",
        "word_forms = np.array(word_forms)"
      ],
      "execution_count": 55,
      "outputs": []
    },
    {
      "cell_type": "markdown",
      "metadata": {
        "id": "M7h4WNOLemjJ"
      },
      "source": [
        "## Functii"
      ]
    },
    {
      "cell_type": "code",
      "metadata": {
        "id": "nMbDZDLarAwC"
      },
      "source": [
        "def words_forms(word):\n",
        "  return int(word.lower() in word_forms)"
      ],
      "execution_count": 56,
      "outputs": []
    },
    {
      "cell_type": "code",
      "metadata": {
        "id": "4aP4P_ef7fvg"
      },
      "source": [
        "def corpus_feature(corpus):\n",
        "  if corpus == 'bible':\n",
        "    return [0]\n",
        "  elif corpus == 'biomed':\n",
        "    return [1]\n",
        "  else :\n",
        "    return [2]"
      ],
      "execution_count": 57,
      "outputs": []
    },
    {
      "cell_type": "code",
      "metadata": {
        "id": "2MTBC_tY7jDU"
      },
      "source": [
        "def length(word):\n",
        "  return len(word)"
      ],
      "execution_count": 58,
      "outputs": []
    },
    {
      "cell_type": "code",
      "metadata": {
        "id": "snmqq3LW7j2x"
      },
      "source": [
        "def nr_vowels(word):\n",
        "  voc = 'aeiouAEIOU'\n",
        "  cnt = 0\n",
        "  for ch in word:\n",
        "    if ch in voc:\n",
        "      cnt += 1\n",
        "  return cnt"
      ],
      "execution_count": 59,
      "outputs": []
    },
    {
      "cell_type": "code",
      "metadata": {
        "id": "KQRds9tPgnr0"
      },
      "source": [
        "def nr_consonant(word):\n",
        "  not_in = \"aeiouAEIOUAαΔΩπλθβδεηπσω[@_!#$%^&*()<>?/\\|}{~:-]0123456789\"\n",
        "  cnt = 0\n",
        "  for ch in word:\n",
        "    if ch not in not_in:\n",
        "      cnt += 1\n",
        "  return cnt"
      ],
      "execution_count": 60,
      "outputs": []
    },
    {
      "cell_type": "code",
      "metadata": {
        "id": "NZnMcvGe7lLH"
      },
      "source": [
        "def is_title(word):\n",
        "  return int(word.istitle())"
      ],
      "execution_count": 61,
      "outputs": []
    },
    {
      "cell_type": "code",
      "metadata": {
        "id": "3w49TXap7mNK"
      },
      "source": [
        "def is_dale_chall(word):\n",
        "  return int(word.lower() in DALE_CHALL)"
      ],
      "execution_count": 62,
      "outputs": []
    },
    {
      "cell_type": "code",
      "metadata": {
        "id": "vTS4C7QS7pAr"
      },
      "source": [
        "def nr_syllables(word):\n",
        "  language = pyphen.Pyphen(lang = 'en')\n",
        "  return len(language.inserted(word, '-').split('-'))"
      ],
      "execution_count": 63,
      "outputs": []
    },
    {
      "cell_type": "code",
      "metadata": {
        "id": "VJg3wUR0KY2o"
      },
      "source": [
        "def capslock(word):\n",
        "  return int(word.upper() == word and len(word) != 1)"
      ],
      "execution_count": 64,
      "outputs": []
    },
    {
      "cell_type": "code",
      "metadata": {
        "id": "plC_31tc7q66"
      },
      "source": [
        "def get_word_structure_features(word):\n",
        "    features = []\n",
        "    features.append(nr_syllables(word))\n",
        "    features.append(is_dale_chall(word))\n",
        "    features.append(length(word))\n",
        "    features.append(nr_vowels(word))\n",
        "    features.append(nr_consonant(word))\n",
        "    features.append(is_title(word))\n",
        "    features.append(words_forms(word))\n",
        "    return np.array(features)"
      ],
      "execution_count": 65,
      "outputs": []
    },
    {
      "cell_type": "code",
      "metadata": {
        "id": "aRjSvoId7tUt"
      },
      "source": [
        "def featurize(row):\n",
        "    word = row['token']\n",
        "    all_features = []\n",
        "    all_features.extend(corpus_feature(row['corpus']))\n",
        "    all_features.extend(get_word_structure_features(word))\n",
        "    return np.array(all_features)"
      ],
      "execution_count": 66,
      "outputs": []
    },
    {
      "cell_type": "code",
      "metadata": {
        "id": "L5OG_OMY7uM4"
      },
      "source": [
        "def featurize_df(df):\n",
        "    nr_of_features = len(featurize(df.iloc[0]))\n",
        "    nr_of_examples = len(df)\n",
        "    features = np.zeros((nr_of_examples, nr_of_features))\n",
        "    for index, row in df.iterrows():\n",
        "        row_ftrs = featurize(row)\n",
        "        features[index, :] = row_ftrs\n",
        "    return features"
      ],
      "execution_count": 67,
      "outputs": []
    },
    {
      "cell_type": "markdown",
      "metadata": {
        "id": "Z4-ZGYwYerdo"
      },
      "source": [
        "## Pregatirea datelor de training si validare pentru testare locala"
      ]
    },
    {
      "cell_type": "code",
      "metadata": {
        "id": "V-iF7-u_KeT-"
      },
      "source": [
        "X = featurize_df(df_train)\n",
        "Y = df_train['complex'].values"
      ],
      "execution_count": 68,
      "outputs": []
    },
    {
      "cell_type": "code",
      "metadata": {
        "id": "YmDjg4MW7pKb"
      },
      "source": [
        "for i in range(1, 10):\n",
        "  df_train = df_train.sample(frac=1).reset_index(drop=True)"
      ],
      "execution_count": 69,
      "outputs": []
    },
    {
      "cell_type": "code",
      "metadata": {
        "id": "E_nrwVRdEUJd"
      },
      "source": [
        "X_train = df_train[:6129]\n",
        "X_validate = df_train[6129:]"
      ],
      "execution_count": 70,
      "outputs": []
    },
    {
      "cell_type": "code",
      "metadata": {
        "id": "tiObfUB1FABQ"
      },
      "source": [
        "X_validate = X_validate.reset_index(drop = True)"
      ],
      "execution_count": 71,
      "outputs": []
    },
    {
      "cell_type": "code",
      "metadata": {
        "id": "evWj3WZGEWyE"
      },
      "source": [
        "X_train1 = featurize_df(X_train)\n",
        "Y_train1 = X_train['complex'].values"
      ],
      "execution_count": 72,
      "outputs": []
    },
    {
      "cell_type": "code",
      "metadata": {
        "id": "HxdQOJMdEYGC"
      },
      "source": [
        "X_validate1 = featurize_df(X_validate)\n",
        "Y_validate1 = X_validate['complex'].values"
      ],
      "execution_count": 73,
      "outputs": []
    },
    {
      "cell_type": "markdown",
      "metadata": {
        "id": "Jh1qO06NBMlO"
      },
      "source": [
        "## Cross validation"
      ]
    },
    {
      "cell_type": "code",
      "metadata": {
        "id": "jvJlNLgJBjBm"
      },
      "source": [
        "C = [3, 4, 5, 6, 7, 8]\n",
        "gamma = [0.1, 'auto', 'scale']\n",
        "\n",
        "param_grid = dict(C = C, gamma = gamma)\n",
        "model = SVC(kernel = 'rbf', class_weight = 'balanced')\n",
        "cv = KFold(n_splits = 10, random_state = 1, shuffle = True)\n",
        "\n",
        "grid = GridSearchCV(estimator = model, param_grid = param_grid, n_jobs = -1, cv = cv, scoring = 'balanced_accuracy')"
      ],
      "execution_count": 74,
      "outputs": []
    },
    {
      "cell_type": "code",
      "metadata": {
        "colab": {
          "base_uri": "https://localhost:8080/"
        },
        "id": "deFWwi2GCkKU",
        "outputId": "6e094d6d-2e41-46e7-ccf6-35f5ef3e6f43"
      },
      "source": [
        "grid_result = grid.fit(X, Y)\n",
        "print(\"Best: %f using %s\" % (grid_result.best_score_, grid_result.best_params_))\n",
        "means = grid_result.cv_results_['mean_test_score']\n",
        "params = grid_result.cv_results_['params']\n",
        "for mean, param in zip(means,params):\n",
        "    print(\"%f with: %r\" % (mean, param))\n",
        "  \n",
        "pred_cross = grid_result.best_estimator_.predict(X)\n",
        "print(confusion_matrix(Y, pred_cross))"
      ],
      "execution_count": 75,
      "outputs": [
        {
          "output_type": "stream",
          "name": "stdout",
          "text": [
            "Best: 0.806508 using {'C': 7, 'gamma': 'auto'}\n",
            "0.801264 with: {'C': 3, 'gamma': 0.1}\n",
            "0.801980 with: {'C': 3, 'gamma': 'auto'}\n",
            "0.802096 with: {'C': 3, 'gamma': 'scale'}\n",
            "0.803265 with: {'C': 4, 'gamma': 0.1}\n",
            "0.804765 with: {'C': 4, 'gamma': 'auto'}\n",
            "0.803854 with: {'C': 4, 'gamma': 'scale'}\n",
            "0.803332 with: {'C': 5, 'gamma': 0.1}\n",
            "0.803187 with: {'C': 5, 'gamma': 'auto'}\n",
            "0.804072 with: {'C': 5, 'gamma': 'scale'}\n",
            "0.804343 with: {'C': 6, 'gamma': 0.1}\n",
            "0.804809 with: {'C': 6, 'gamma': 'auto'}\n",
            "0.804216 with: {'C': 6, 'gamma': 'scale'}\n",
            "0.804588 with: {'C': 7, 'gamma': 0.1}\n",
            "0.806508 with: {'C': 7, 'gamma': 'auto'}\n",
            "0.804359 with: {'C': 7, 'gamma': 'scale'}\n",
            "0.805215 with: {'C': 8, 'gamma': 0.1}\n",
            "0.805561 with: {'C': 8, 'gamma': 'auto'}\n",
            "0.804214 with: {'C': 8, 'gamma': 'scale'}\n",
            "[[4972 1940]\n",
            " [  32  718]]\n"
          ]
        }
      ]
    },
    {
      "cell_type": "markdown",
      "metadata": {
        "id": "y92Q_woJz2bk"
      },
      "source": [
        "## Testare locala"
      ]
    },
    {
      "cell_type": "code",
      "metadata": {
        "id": "Zu4oYIYsJayy"
      },
      "source": [
        "clf = SVC(kernel = 'rbf', C = 7, gamma = 'auto', class_weight = 'balanced')\n",
        "Y_pred_clf = clf.fit(X_train1, Y_train1).predict(X_validate1)"
      ],
      "execution_count": 76,
      "outputs": []
    },
    {
      "cell_type": "code",
      "metadata": {
        "id": "87n1oC_3JaqY",
        "colab": {
          "base_uri": "https://localhost:8080/"
        },
        "outputId": "576223ab-cf6c-4aef-9a84-d3ed39d39d73"
      },
      "source": [
        "print(balanced_accuracy_score(Y_validate1, Y_pred_clf))"
      ],
      "execution_count": 77,
      "outputs": [
        {
          "output_type": "stream",
          "name": "stdout",
          "text": [
            "0.7994488636363637\n"
          ]
        }
      ]
    },
    {
      "cell_type": "code",
      "metadata": {
        "id": "CcNptKK_JZPQ",
        "colab": {
          "base_uri": "https://localhost:8080/"
        },
        "outputId": "d2f807d1-3883-4d0f-f987-42a620e01138"
      },
      "source": [
        "confusion_matrix(Y_validate1, Y_pred_clf)"
      ],
      "execution_count": 78,
      "outputs": [
        {
          "output_type": "execute_result",
          "data": {
            "text/plain": [
              "array([[1046,  362],\n",
              "       [  18,  107]])"
            ]
          },
          "metadata": {},
          "execution_count": 78
        }
      ]
    },
    {
      "cell_type": "markdown",
      "metadata": {
        "id": "EO8erlqU9qrk"
      },
      "source": [
        "## Antrenare si prezicere pentru modelul final"
      ]
    },
    {
      "cell_type": "code",
      "metadata": {
        "id": "-iE9SVIj5PWM"
      },
      "source": [
        "X_test = featurize_df(df_test)"
      ],
      "execution_count": 79,
      "outputs": []
    },
    {
      "cell_type": "code",
      "metadata": {
        "id": "jeVeeZXPJPd1",
        "colab": {
          "base_uri": "https://localhost:8080/"
        },
        "outputId": "659eabca-1b36-4171-b7f3-f6cc7a81865e"
      },
      "source": [
        "start = timer()\n",
        "clf = SVC(kernel = 'rbf', C = 7, gamma = 'auto', class_weight = 'balanced')\n",
        "preds = clf.fit(X, Y).predict(X_test)\n",
        "end = timer()\n",
        "print(timedelta(seconds=end-start))"
      ],
      "execution_count": 80,
      "outputs": [
        {
          "output_type": "stream",
          "name": "stdout",
          "text": [
            "0:00:02.068023\n"
          ]
        }
      ]
    },
    {
      "cell_type": "markdown",
      "metadata": {
        "id": "yCW-UyDae3Sm"
      },
      "source": [
        "## Punere date in fisier"
      ]
    },
    {
      "cell_type": "code",
      "metadata": {
        "id": "kju6rIY4ImrP"
      },
      "source": [
        "test_id = np.arange(7663,9001) \n",
        "np.savetxt(\"SVM_submission.csv\", np.stack((test_id,preds)).T, fmt = \"%d\", delimiter = ',', header = \"id,complex\", comments = \"\")"
      ],
      "execution_count": 81,
      "outputs": []
    }
  ]
}