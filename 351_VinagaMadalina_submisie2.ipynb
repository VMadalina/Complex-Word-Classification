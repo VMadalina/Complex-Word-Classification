{
  "nbformat": 4,
  "nbformat_minor": 0,
  "metadata": {
    "colab": {
      "name": "351_VinagaMadalina_submisie2.ipynb",
      "provenance": [],
      "collapsed_sections": []
    },
    "kernelspec": {
      "name": "python3",
      "display_name": "Python 3"
    },
    "language_info": {
      "name": "python"
    }
  },
  "cells": [
    {
      "cell_type": "markdown",
      "metadata": {
        "id": "C8pPjyane_M3"
      },
      "source": [
        "## Instalari si pregatire mediu"
      ]
    },
    {
      "cell_type": "code",
      "metadata": {
        "id": "F9T5ZjMqtVGF",
        "colab": {
          "base_uri": "https://localhost:8080/"
        },
        "outputId": "157d998c-34ac-464a-b6bf-85cdb625632a"
      },
      "source": [
        "!pip install pyphen"
      ],
      "execution_count": 79,
      "outputs": [
        {
          "output_type": "stream",
          "name": "stdout",
          "text": [
            "Requirement already satisfied: pyphen in /usr/local/lib/python3.7/dist-packages (0.11.0)\n"
          ]
        }
      ]
    },
    {
      "cell_type": "code",
      "metadata": {
        "id": "L0c63EKz6uCb"
      },
      "source": [
        "from sklearn.naive_bayes import GaussianNB\n",
        "from sklearn.metrics import balanced_accuracy_score, confusion_matrix\n",
        "from sklearn.model_selection import KFold, cross_val_score\n",
        "import pyphen\n",
        "import numpy as np\n",
        "import pandas as pd\n",
        "from dale_chall import DALE_CHALL\n",
        "from timeit import default_timer as timer\n",
        "from datetime import timedelta"
      ],
      "execution_count": 80,
      "outputs": []
    },
    {
      "cell_type": "markdown",
      "metadata": {
        "id": "RKNVVj_VfC6v"
      },
      "source": [
        "## Extragerea si prelucrarea datelor"
      ]
    },
    {
      "cell_type": "code",
      "metadata": {
        "id": "nkTfCm6K6vY_"
      },
      "source": [
        "dtypes = {\"corpus\": \"string\", \"sentence\": \"string\", \"token\": \"string\", \"complexity\": \"float64\"}\n",
        "df_train = pd.read_excel('train.xlsx', dtype=dtypes, keep_default_na=False)\n",
        "df_test = pd.read_excel('test.xlsx', dtype=dtypes, keep_default_na=False)"
      ],
      "execution_count": 81,
      "outputs": []
    },
    {
      "cell_type": "code",
      "metadata": {
        "colab": {
          "base_uri": "https://localhost:8080/",
          "height": 206
        },
        "id": "L-mwlz7t6w2n",
        "outputId": "24c16ffd-c5fb-4ad1-f7f4-cba58afac277"
      },
      "source": [
        "df_train.head()"
      ],
      "execution_count": 82,
      "outputs": [
        {
          "output_type": "execute_result",
          "data": {
            "text/html": [
              "<div>\n",
              "<style scoped>\n",
              "    .dataframe tbody tr th:only-of-type {\n",
              "        vertical-align: middle;\n",
              "    }\n",
              "\n",
              "    .dataframe tbody tr th {\n",
              "        vertical-align: top;\n",
              "    }\n",
              "\n",
              "    .dataframe thead th {\n",
              "        text-align: right;\n",
              "    }\n",
              "</style>\n",
              "<table border=\"1\" class=\"dataframe\">\n",
              "  <thead>\n",
              "    <tr style=\"text-align: right;\">\n",
              "      <th></th>\n",
              "      <th>corpus</th>\n",
              "      <th>sentence</th>\n",
              "      <th>token</th>\n",
              "      <th>complex</th>\n",
              "    </tr>\n",
              "  </thead>\n",
              "  <tbody>\n",
              "    <tr>\n",
              "      <th>0</th>\n",
              "      <td>bible</td>\n",
              "      <td>Behold, there came up out of the river seven c...</td>\n",
              "      <td>river</td>\n",
              "      <td>0</td>\n",
              "    </tr>\n",
              "    <tr>\n",
              "      <th>1</th>\n",
              "      <td>bible</td>\n",
              "      <td>I am a fellow bondservant with you and with yo...</td>\n",
              "      <td>brothers</td>\n",
              "      <td>0</td>\n",
              "    </tr>\n",
              "    <tr>\n",
              "      <th>2</th>\n",
              "      <td>bible</td>\n",
              "      <td>The man, the lord of the land, said to us, 'By...</td>\n",
              "      <td>brothers</td>\n",
              "      <td>0</td>\n",
              "    </tr>\n",
              "    <tr>\n",
              "      <th>3</th>\n",
              "      <td>bible</td>\n",
              "      <td>Shimei had sixteen sons and six daughters; but...</td>\n",
              "      <td>brothers</td>\n",
              "      <td>0</td>\n",
              "    </tr>\n",
              "    <tr>\n",
              "      <th>4</th>\n",
              "      <td>bible</td>\n",
              "      <td>\"He has put my brothers far from me.</td>\n",
              "      <td>brothers</td>\n",
              "      <td>0</td>\n",
              "    </tr>\n",
              "  </tbody>\n",
              "</table>\n",
              "</div>"
            ],
            "text/plain": [
              "  corpus                                           sentence     token  complex\n",
              "0  bible  Behold, there came up out of the river seven c...     river        0\n",
              "1  bible  I am a fellow bondservant with you and with yo...  brothers        0\n",
              "2  bible  The man, the lord of the land, said to us, 'By...  brothers        0\n",
              "3  bible  Shimei had sixteen sons and six daughters; but...  brothers        0\n",
              "4  bible               \"He has put my brothers far from me.  brothers        0"
            ]
          },
          "metadata": {},
          "execution_count": 82
        }
      ]
    },
    {
      "cell_type": "code",
      "metadata": {
        "id": "nOlVFv-56yNA"
      },
      "source": [
        "for i in range(1, 10):\n",
        "  df_train = df_train.sample(frac=1).reset_index(drop=True)"
      ],
      "execution_count": 83,
      "outputs": []
    },
    {
      "cell_type": "code",
      "metadata": {
        "id": "vWT6iVMs60A3"
      },
      "source": [
        "X_train = df_train[:6129]\n",
        "X_validate = df_train[6129:]"
      ],
      "execution_count": 84,
      "outputs": []
    },
    {
      "cell_type": "code",
      "metadata": {
        "id": "uJ0e4Jz2wbpe"
      },
      "source": [
        "X_validate = X_validate.reset_index(drop = True)"
      ],
      "execution_count": 85,
      "outputs": []
    },
    {
      "cell_type": "code",
      "metadata": {
        "id": "YVyvlUH6o9P9"
      },
      "source": [
        "word_forms = pd.read_excel('wordForms.xlsx')\n",
        "word_forms = np.array(word_forms)"
      ],
      "execution_count": 86,
      "outputs": []
    },
    {
      "cell_type": "markdown",
      "metadata": {
        "id": "M7h4WNOLemjJ"
      },
      "source": [
        "## Functii"
      ]
    },
    {
      "cell_type": "code",
      "metadata": {
        "id": "nMbDZDLarAwC"
      },
      "source": [
        "def words_forms(word):\n",
        "  return int(word.lower() in word_forms)"
      ],
      "execution_count": 87,
      "outputs": []
    },
    {
      "cell_type": "code",
      "metadata": {
        "id": "4aP4P_ef7fvg"
      },
      "source": [
        "def corpus_feature(corpus):\n",
        "  if corpus == 'bible':\n",
        "    return [0]\n",
        "  elif corpus == 'biomed':\n",
        "    return [1]\n",
        "  else :\n",
        "    return [2]"
      ],
      "execution_count": 88,
      "outputs": []
    },
    {
      "cell_type": "code",
      "metadata": {
        "id": "2MTBC_tY7jDU"
      },
      "source": [
        "def length(word):\n",
        "  return len(word)"
      ],
      "execution_count": 89,
      "outputs": []
    },
    {
      "cell_type": "code",
      "metadata": {
        "id": "snmqq3LW7j2x"
      },
      "source": [
        "def nr_vowels(word):\n",
        "  voc = 'aeiouAEIOU'\n",
        "  cnt = 0\n",
        "  for ch in word:\n",
        "    if ch in voc:\n",
        "      cnt += 1\n",
        "  return cnt"
      ],
      "execution_count": 90,
      "outputs": []
    },
    {
      "cell_type": "code",
      "metadata": {
        "id": "KQRds9tPgnr0"
      },
      "source": [
        "def nr_consonant(word):\n",
        "  return int(length(word)- nr_vowels(word))"
      ],
      "execution_count": 91,
      "outputs": []
    },
    {
      "cell_type": "code",
      "metadata": {
        "id": "NZnMcvGe7lLH"
      },
      "source": [
        "def is_title(word):\n",
        "  return int(word.istitle())"
      ],
      "execution_count": 92,
      "outputs": []
    },
    {
      "cell_type": "code",
      "metadata": {
        "id": "3w49TXap7mNK"
      },
      "source": [
        "def is_dale_chall(word):\n",
        "  return int(word.lower() in DALE_CHALL)"
      ],
      "execution_count": 93,
      "outputs": []
    },
    {
      "cell_type": "code",
      "metadata": {
        "id": "vTS4C7QS7pAr"
      },
      "source": [
        "def nr_syllables(word):\n",
        "  language = pyphen.Pyphen(lang = 'en')\n",
        "  return len(language.inserted(word, '-').split('-'))"
      ],
      "execution_count": 94,
      "outputs": []
    },
    {
      "cell_type": "code",
      "metadata": {
        "id": "plC_31tc7q66"
      },
      "source": [
        "def get_word_structure_features(word):\n",
        "    features = []\n",
        "    features.append(nr_syllables(word))\n",
        "    features.append(is_dale_chall(word))\n",
        "    features.append(length(word))\n",
        "    features.append(nr_vowels(word))\n",
        "    features.append(nr_consonant(word))\n",
        "    features.append(is_title(word))\n",
        "    features.append(words_forms(word))\n",
        "    return np.array(features)"
      ],
      "execution_count": 95,
      "outputs": []
    },
    {
      "cell_type": "code",
      "metadata": {
        "id": "aRjSvoId7tUt"
      },
      "source": [
        "def featurize(row):\n",
        "    word = row['token']\n",
        "    all_features = []\n",
        "    all_features.extend(corpus_feature(row['corpus']))\n",
        "    all_features.extend(get_word_structure_features(word))\n",
        "    return np.array(all_features)"
      ],
      "execution_count": 96,
      "outputs": []
    },
    {
      "cell_type": "code",
      "metadata": {
        "id": "L5OG_OMY7uM4"
      },
      "source": [
        "def featurize_df(df):\n",
        "    nr_of_features = len(featurize(df.iloc[0]))\n",
        "    nr_of_examples = len(df)\n",
        "    features = np.zeros((nr_of_examples, nr_of_features))\n",
        "    for index, row in df.iterrows():\n",
        "        row_ftrs = featurize(row)\n",
        "        features[index, :] = row_ftrs\n",
        "    return features"
      ],
      "execution_count": 97,
      "outputs": []
    },
    {
      "cell_type": "markdown",
      "metadata": {
        "id": "Z4-ZGYwYerdo"
      },
      "source": [
        "## Pregatirea datelor de training si validare pentru testare locala"
      ]
    },
    {
      "cell_type": "code",
      "metadata": {
        "id": "Q38rQ3TV9Ke0"
      },
      "source": [
        "X_full_train = featurize_df(df_train)\n",
        "Y_full_train = df_train['complex'].values"
      ],
      "execution_count": 98,
      "outputs": []
    },
    {
      "cell_type": "code",
      "metadata": {
        "id": "jg-lp1nS7vIJ"
      },
      "source": [
        "X_train1 = featurize_df(X_train)\n",
        "Y_train1 = X_train['complex'].values"
      ],
      "execution_count": 99,
      "outputs": []
    },
    {
      "cell_type": "code",
      "metadata": {
        "id": "OCtVGdNr8rXg"
      },
      "source": [
        "X_validate1 = featurize_df(X_validate)\n",
        "Y_validate1 = X_validate['complex'].values"
      ],
      "execution_count": 100,
      "outputs": []
    },
    {
      "cell_type": "code",
      "metadata": {
        "id": "BY0-MWIu78BP"
      },
      "source": [
        "gnb = GaussianNB()\n",
        "Y_pred_gauss = gnb.fit(X_train1, Y_train1).predict(X_validate1)"
      ],
      "execution_count": 101,
      "outputs": []
    },
    {
      "cell_type": "code",
      "metadata": {
        "colab": {
          "base_uri": "https://localhost:8080/"
        },
        "id": "cH339Js56m_h",
        "outputId": "b79dd3ca-6e4c-4b77-fdcb-5bc922718b7e"
      },
      "source": [
        "print(balanced_accuracy_score(Y_validate1, Y_pred_gauss))"
      ],
      "execution_count": 102,
      "outputs": [
        {
          "output_type": "stream",
          "name": "stdout",
          "text": [
            "0.8040467362669529\n"
          ]
        }
      ]
    },
    {
      "cell_type": "code",
      "metadata": {
        "colab": {
          "base_uri": "https://localhost:8080/"
        },
        "id": "ws-_S3w73eGc",
        "outputId": "7e4f73d4-6413-4972-a6a0-bb7f66edcf39"
      },
      "source": [
        "confusion_matrix(Y_validate1, Y_pred_gauss)"
      ],
      "execution_count": 103,
      "outputs": [
        {
          "output_type": "execute_result",
          "data": {
            "text/plain": [
              "array([[889, 496],\n",
              "       [  5, 143]])"
            ]
          },
          "metadata": {},
          "execution_count": 103
        }
      ]
    },
    {
      "cell_type": "markdown",
      "metadata": {
        "id": "BLaUrQO98uLR"
      },
      "source": [
        "## Cross validation"
      ]
    },
    {
      "cell_type": "code",
      "metadata": {
        "colab": {
          "base_uri": "https://localhost:8080/"
        },
        "id": "_mwDpWMl8wdy",
        "outputId": "9f013473-a911-4d86-fe44-2ce7ab1e46cb"
      },
      "source": [
        "model = GaussianNB()\n",
        "cv = KFold(n_splits = 10, random_state = 1, shuffle = True)\n",
        "print(cross_val_score(model, X_full_train, Y_full_train, cv = cv, scoring='balanced_accuracy', n_jobs = -1).mean())"
      ],
      "execution_count": 104,
      "outputs": [
        {
          "output_type": "stream",
          "name": "stdout",
          "text": [
            "0.7940896423981612\n"
          ]
        }
      ]
    },
    {
      "cell_type": "markdown",
      "metadata": {
        "id": "EO8erlqU9qrk"
      },
      "source": [
        "## Antrenare si prezicere"
      ]
    },
    {
      "cell_type": "code",
      "metadata": {
        "id": "-iE9SVIj5PWM"
      },
      "source": [
        "X_test = featurize_df(df_test)"
      ],
      "execution_count": 105,
      "outputs": []
    },
    {
      "cell_type": "code",
      "metadata": {
        "id": "jeVeeZXPJPd1",
        "colab": {
          "base_uri": "https://localhost:8080/"
        },
        "outputId": "975b8059-c3c4-4680-e371-863908b9b09a"
      },
      "source": [
        "start = timer()\n",
        "gnb = GaussianNB()\n",
        "preds = gnb.fit(X_full_train, Y_full_train).predict(X_test)\n",
        "end = timer()\n",
        "print(timedelta(seconds=end-start))"
      ],
      "execution_count": 106,
      "outputs": [
        {
          "output_type": "stream",
          "name": "stdout",
          "text": [
            "0:00:00.005413\n"
          ]
        }
      ]
    },
    {
      "cell_type": "code",
      "metadata": {
        "colab": {
          "base_uri": "https://localhost:8080/"
        },
        "id": "Lc5UmN_pwwHq",
        "outputId": "ed8f84d4-1f2b-4041-cb21-c0793fcda036"
      },
      "source": [
        "print(gnb.class_prior_) #Likelihood"
      ],
      "execution_count": 107,
      "outputs": [
        {
          "output_type": "stream",
          "name": "stdout",
          "text": [
            "[0.90211433 0.09788567]\n"
          ]
        }
      ]
    },
    {
      "cell_type": "markdown",
      "metadata": {
        "id": "yCW-UyDae3Sm"
      },
      "source": [
        "## Punere date in fisier"
      ]
    },
    {
      "cell_type": "code",
      "metadata": {
        "id": "kju6rIY4ImrP"
      },
      "source": [
        "test_id = np.arange(7663,9001) \n",
        "np.savetxt(\"Bayes_submission.csv\", np.stack((test_id,preds)).T, fmt = \"%d\", delimiter = ',', header = \"id,complex\", comments = \"\")"
      ],
      "execution_count": 108,
      "outputs": []
    }
  ]
}